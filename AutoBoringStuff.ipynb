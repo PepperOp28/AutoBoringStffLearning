{
 "cells": [
  {
   "cell_type": "code",
   "execution_count": 6,
   "id": "913b5103",
   "metadata": {},
   "outputs": [
    {
     "name": "stdout",
     "output_type": "stream",
     "text": [
      "hello\n"
     ]
    }
   ],
   "source": [
    "print(\"hello\")"
   ]
  },
  {
   "cell_type": "code",
   "execution_count": 7,
   "id": "72d6d044",
   "metadata": {},
   "outputs": [
    {
     "name": "stdout",
     "output_type": "stream",
     "text": [
      "dog\n"
     ]
    }
   ],
   "source": [
    "animal = ['cat','dog','hamster','llama','camel']\n",
    "print (animal[1])"
   ]
  },
  {
   "cell_type": "code",
   "execution_count": 8,
   "id": "5f6f9a27",
   "metadata": {},
   "outputs": [
    {
     "name": "stdout",
     "output_type": "stream",
     "text": [
      "New York, Elizabeth\n"
     ]
    }
   ],
   "source": [
    "cities = ['New York','Newark','Elizabeth']\n",
    "print(cities[0]+ \", \" + cities[-1])"
   ]
  },
  {
   "cell_type": "code",
   "execution_count": 9,
   "id": "2cc459ff",
   "metadata": {},
   "outputs": [],
   "source": [
    "# 1. Create a list of five different animals.\n",
    "animals = ['dog','horse','cat','monkey','tiger']\n",
    "# 2. Change the second animal to 'elephant'.\n",
    "del animals[1]\n",
    "animals.insert(1,'elephant')\n",
    "\n",
    "# 3. Add a new animal to the end of the list.\n",
    "animals.append('llama')\n",
    "\n",
    "# 4. Insert a new animal at the third position.\n",
    "animals.insert(2,'camel')\n",
    "\n",
    "# 5. Remove the first animal from the list.\n",
    "del animals[0]\n"
   ]
  },
  {
   "cell_type": "code",
   "execution_count": 10,
   "id": "dc1cf160",
   "metadata": {},
   "outputs": [
    {
     "name": "stdout",
     "output_type": "stream",
     "text": [
      "['10', '20', '35']\n",
      "50\n"
     ]
    }
   ],
   "source": [
    "# Practice Exercise\n",
    "# 1. Create a list named `numbers` with the elements [10, 20, 30, 40, 50].\n",
    "list = ['10','20','30','40','50']\n",
    "# 2. Replace the third element in the list with the value 35.\n",
    "list[2] = '35'\n",
    "# 3. Print the sliced list containing the first three elements.\n",
    "print(list[0:3])\n",
    "# 4. Print the last element of the list using negative indexing.\n",
    "print(list[-1])\n"
   ]
  },
  {
   "cell_type": "code",
   "execution_count": 11,
   "id": "addb70e0",
   "metadata": {},
   "outputs": [
    {
     "name": "stdout",
     "output_type": "stream",
     "text": [
      "Cat\n",
      "Dog\n",
      "Bird\n",
      "Fish\n"
     ]
    }
   ],
   "source": [
    "# 1. Create a list named animals containing 'cat', 'dog', 'bird', 'fish'.\n",
    "animals = ['cat', 'dog', 'bird', 'fish']\n",
    "# 2. Add the string 'hamster' to the end of the list.\n",
    "animals.append('hamster')\n",
    "# 3. Insert the string 'rabbit' at the second position in the list.\n",
    "animals[1] = 'rabbit'\n",
    "# 4. Remove the string 'fish' from the list.\n",
    "del animals[3]\n",
    "# 5. Sort the list in alphabetical order.\n",
    "animals.sort()\n",
    "# 6. Loop through the list and print each animal in uppercase letters.\n",
    "animals = ['cat', 'dog', 'bird', 'fish']\n",
    "for animal in animals:\n",
    "    print(animal.capitalize())"
   ]
  },
  {
   "cell_type": "code",
   "execution_count": 12,
   "id": "83dad928",
   "metadata": {},
   "outputs": [
    {
     "name": "stdout",
     "output_type": "stream",
     "text": [
      "Cat\n",
      "Dog\n",
      "Bird\n",
      "Fish\n"
     ]
    }
   ],
   "source": [
    "animals = ['cat', 'dog', 'bird', 'fish']\n",
    "for animal in animals:\n",
    "    print(animal.capitalize())\n"
   ]
  },
  {
   "cell_type": "code",
   "execution_count": 13,
   "id": "0a5523d6",
   "metadata": {},
   "outputs": [
    {
     "name": "stdout",
     "output_type": "stream",
     "text": [
      "[0, 1, 4, 9, 16, 25, 36, 49, 64, 81, 100, 121, 144, 169, 196, 225, 256, 289, 324, 361]\n",
      "[0, 4, 16, 36, 64, 100, 144, 196, 256, 324]\n"
     ]
    }
   ],
   "source": [
    "# 1. Create a list of numbers from 0 to 20 using range().\n",
    "num = range(20)\n",
    "# 2. Using a list comprehension, create a new list containing the squares of the numbers from the original list.\n",
    "square = [x**2 for x in num]\n",
    "print(square)\n",
    "# 3. Using a list comprehension, create another new list containing only the even squares from the list created in step 2.\n",
    "even_square = [x**2 for x in num if x%2 == 0]\n",
    "print(even_square)\n"
   ]
  },
  {
   "cell_type": "code",
   "execution_count": null,
   "id": "77ba82f5",
   "metadata": {},
   "outputs": [],
   "source": [
    "\n"
   ]
  },
  {
   "cell_type": "code",
   "execution_count": 14,
   "id": "4969f802",
   "metadata": {},
   "outputs": [
    {
     "name": "stdout",
     "output_type": "stream",
     "text": [
      "banana\n",
      "['avocado', 'apple', 'banana', 'cherry']\n"
     ]
    }
   ],
   "source": [
    "# Create a list named 'fruits' with the following elements: 'apple', 'banana', 'cherry'.\n",
    "fruits = ['apple','banana','cherry']\n",
    "# Then, perform the following operations in order:\n",
    "# 1. Print the second element of the list.\n",
    "print(fruits[1])\n",
    "# 2. Replace the first element with 'avocado'.\n",
    "fruits.insert(0,'avocado')\n",
    "print(fruits)\n",
    "# 3. Add 'orange' to the end of the list.\n",
    "# 4. Insert 'grape' at the third position.\n",
    "# 5. Remove 'banana' from the list.\n",
    "# 6. Print the final list.\n"
   ]
  },
  {
   "cell_type": "code",
   "execution_count": 15,
   "id": "07a80c8f",
   "metadata": {},
   "outputs": [],
   "source": [
    "# Given a variable `number`, use an if statement to print \"Positive\" if the number is greater than 0,\n",
    "# \"Zero\" if the number is 0, and \"Negative\" if the number is less than 0.\n",
    "number = 5\n",
    "\n",
    "if number > number % 2 == 0:\n",
    "    print(\"Positive\")\n",
    "    \n"
   ]
  },
  {
   "cell_type": "markdown",
   "id": "72679819",
   "metadata": {},
   "source": [
    "Sorry, as an AI, I don't have the ability to read or interpret PDF files directly. However, you can certainly ask questions or request explanations on specific topics or concepts from your textbook, and I'll do my best to provide clear and concise explanations."
   ]
  },
  {
   "cell_type": "code",
   "execution_count": 16,
   "id": "688d88cf",
   "metadata": {},
   "outputs": [
    {
     "name": "stdout",
     "output_type": "stream",
     "text": [
      "1\n",
      "2\n",
      "3\n",
      "4\n",
      "5\n"
     ]
    }
   ],
   "source": [
    "x = 1\n",
    "while x<6:\n",
    "    print (x)\n",
    "    x+=1"
   ]
  },
  {
   "cell_type": "code",
   "execution_count": null,
   "id": "3e0148fb",
   "metadata": {},
   "outputs": [],
   "source": []
  },
  {
   "cell_type": "code",
   "execution_count": null,
   "id": "32b0ad14",
   "metadata": {},
   "outputs": [],
   "source": []
  },
  {
   "cell_type": "code",
   "execution_count": 20,
   "id": "ecec8835",
   "metadata": {},
   "outputs": [
    {
     "name": "stdout",
     "output_type": "stream",
     "text": [
      "8\n"
     ]
    }
   ],
   "source": [
    "# Define a function named `add` that takes two parameters and returns their sum.\n",
    "def add(a, b):\n",
    "    return a + b\n",
    "\n",
    "# Call the function with arguments 3 and 5, and print the result.\n",
    "result = add(3, 5)\n",
    "print(result)  # Expected output: 8\n"
   ]
  },
  {
   "cell_type": "code",
   "execution_count": 21,
   "id": "817b0824",
   "metadata": {},
   "outputs": [
    {
     "name": "stdout",
     "output_type": "stream",
     "text": [
      "Hello, Alice!\n",
      "Hi, Bob!\n"
     ]
    }
   ],
   "source": [
    "# Define a function named `greet` that takes a name and a greeting message with a default value of \"Hello\".\n",
    "# The function should print the greeting message followed by the name.\n",
    "def greet(name, message=\"Hello\"):\n",
    "    print(f\"{message}, {name}!\")\n",
    "\n",
    "# Call the function with just the name argument.\n",
    "greet(\"Alice\")  # Expected output: Hello, Alice!\n",
    "\n",
    "# Call the function with both name and message arguments.\n",
    "greet(\"Bob\", \"Hi\")  # Expected output: Hi, Bob!\n"
   ]
  },
  {
   "cell_type": "code",
   "execution_count": 26,
   "id": "99fae573",
   "metadata": {},
   "outputs": [
    {
     "name": "stdout",
     "output_type": "stream",
     "text": [
      "Enter the name of cat 1 (Or enter nothing to stop.):\n",
      "Enter the name of cat 2 (Or enter nothing to stop.):\n",
      "Enter the name of cat 3 (Or enter nothing to stop.):\n",
      "Enter the name of cat 4 (Or enter nothing to stop.):\n",
      "The cat names are:\n",
      " test\n",
      " hello\n",
      " meow\n"
     ]
    }
   ],
   "source": [
    "catNames = []\n",
    "while True:\n",
    "    print('Enter the name of cat ' + str(len(catNames) + 1) + ' (Or enter nothing to stop.):')\n",
    "    name = input()\n",
    "    if name == '':\n",
    "        break\n",
    "    catNames = catNames + [name] # list concatenation\n",
    "print('The cat names are:')\n",
    "for name in catNames:\n",
    "    print(' ' + name)\n"
   ]
  },
  {
   "cell_type": "code",
   "execution_count": 30,
   "id": "d41e3fc3",
   "metadata": {},
   "outputs": [
    {
     "name": "stdout",
     "output_type": "stream",
     "text": [
      "Enter student name 1:\n",
      "Enter student name 2:\n",
      "Enter student name 3:\n",
      "Enter student name 4:\n",
      "student names are:\n",
      " test\n",
      " t\n",
      " 3\n"
     ]
    }
   ],
   "source": [
    "studentnames = []\n",
    "while True:\n",
    "    print('Enter student name ' + str(len(studentnames) + 1) + ':')\n",
    "    name = input()\n",
    "    if name == '':\n",
    "        break\n",
    "    studentnames = studentnames + [name]\n",
    "print('student names are:')\n",
    "for name in studentnames:\n",
    "    print(' ' + name)"
   ]
  },
  {
   "cell_type": "code",
   "execution_count": 31,
   "id": "98c5f73f",
   "metadata": {},
   "outputs": [
    {
     "name": "stdout",
     "output_type": "stream",
     "text": [
      "Reply hazy try again\n"
     ]
    }
   ],
   "source": [
    "import random\n",
    "messages = ['It is certain',\n",
    "'It is decidedly so',\n",
    "'Yes definitely',\n",
    "'Reply hazy try again',\n",
    "'Ask again later',\n",
    "'Concentrate and ask again',\n",
    "'My reply is no',\n",
    "'Outlook not so good',\n",
    "'Very doubtful']\n",
    "print(messages[random.randint(0, len(messages) - 1)])"
   ]
  },
  {
   "cell_type": "code",
   "execution_count": null,
   "id": "1676309d",
   "metadata": {},
   "outputs": [],
   "source": [
    "testing testing"
   ]
  }
 ],
 "metadata": {
  "kernelspec": {
   "display_name": "Python 3 (ipykernel)",
   "language": "python",
   "name": "python3"
  },
  "language_info": {
   "codemirror_mode": {
    "name": "ipython",
    "version": 3
   },
   "file_extension": ".py",
   "mimetype": "text/x-python",
   "name": "python",
   "nbconvert_exporter": "python",
   "pygments_lexer": "ipython3",
   "version": "3.11.5"
  }
 },
 "nbformat": 4,
 "nbformat_minor": 5
}
