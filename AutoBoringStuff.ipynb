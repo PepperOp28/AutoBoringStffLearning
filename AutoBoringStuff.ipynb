{
 "cells": [
  {
   "cell_type": "code",
   "execution_count": 36,
   "id": "015b88ad",
   "metadata": {},
   "outputs": [
    {
     "ename": "SyntaxError",
     "evalue": "invalid syntax (1609578061.py, line 1)",
     "output_type": "error",
     "traceback": [
      "\u001b[1;36m  Cell \u001b[1;32mIn[36], line 1\u001b[1;36m\u001b[0m\n\u001b[1;33m    Version 0.1\u001b[0m\n\u001b[1;37m            ^\u001b[0m\n\u001b[1;31mSyntaxError\u001b[0m\u001b[1;31m:\u001b[0m invalid syntax\n"
     ]
    }
   ],
   "source": [
    "#Version 0.1"
   ]
  },
  {
   "cell_type": "code",
   "execution_count": null,
   "id": "df1999f0",
   "metadata": {},
   "outputs": [],
   "source": [
    "name = ''\n",
    "while name != 'your name':\n",
    "    print('please type your name.')\n",
    "    name = input()\n",
    "print('thank you')"
   ]
  },
  {
   "cell_type": "code",
   "execution_count": null,
   "id": "6811ca5d",
   "metadata": {},
   "outputs": [],
   "source": [
    "\"\"\"import timeit\n",
    "\n",
    "code_to_test = \n",
    "total = 0\n",
    "\n",
    "for num in range(101):\n",
    "   total = total + num\n",
    "   num = num + num\n",
    "print(num)\n",
    "print(total)\n",
    "\n",
    "\n",
    "execution_time = timeit.timeit(code_to_test, number=1000)\n",
    "print(f\"{execution_time / 1000} seconds\")\n",
    "\n",
    "\"\"\""
   ]
  },
  {
   "cell_type": "code",
   "execution_count": null,
   "id": "2f4415cc",
   "metadata": {},
   "outputs": [],
   "source": [
    "name = input()\n",
    "if name == 'yourname':\n",
    "    print('name')\n"
   ]
  },
  {
   "cell_type": "code",
   "execution_count": null,
   "id": "05034db0",
   "metadata": {},
   "outputs": [],
   "source": []
  },
  {
   "cell_type": "code",
   "execution_count": null,
   "id": "ed1ab71c",
   "metadata": {},
   "outputs": [],
   "source": []
  },
  {
   "cell_type": "code",
   "execution_count": 37,
   "id": "87df8f68",
   "metadata": {},
   "outputs": [
    {
     "name": "stdout",
     "output_type": "stream",
     "text": [
      "hello\n",
      "ds\n"
     ]
    }
   ],
   "source": [
    "import pyperclip\n",
    "print(\"hello\")  # This will print \"hello\" directly.\n",
    "CO = input(\"Enter something: \")  # Changed prompt for clarity.\n",
    "print(CO)"
   ]
  },
  {
   "cell_type": "code",
   "execution_count": null,
   "id": "974aa47a",
   "metadata": {},
   "outputs": [],
   "source": []
  },
  {
   "cell_type": "code",
   "execution_count": null,
   "id": "3256ed07",
   "metadata": {},
   "outputs": [],
   "source": []
  }
 ],
 "metadata": {
  "kernelspec": {
   "display_name": "Python 3 (ipykernel)",
   "language": "python",
   "name": "python3"
  },
  "language_info": {
   "codemirror_mode": {
    "name": "ipython",
    "version": 3
   },
   "file_extension": ".py",
   "mimetype": "text/x-python",
   "name": "python",
   "nbconvert_exporter": "python",
   "pygments_lexer": "ipython3",
   "version": "3.11.5"
  }
 },
 "nbformat": 4,
 "nbformat_minor": 5
}
