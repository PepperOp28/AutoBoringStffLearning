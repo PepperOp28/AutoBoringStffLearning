{
 "cells": [
  {
   "cell_type": "code",
   "execution_count": null,
   "id": "015b88ad",
   "metadata": {},
   "outputs": [],
   "source": [
    "Version 0.1"
   ]
  },
  {
   "cell_type": "code",
   "execution_count": null,
   "id": "df1999f0",
   "metadata": {},
   "outputs": [],
   "source": [
    "name = ''\n",
    "while name != 'your name':\n",
    "    print('please type your name.')\n",
    "    name = input()\n",
    "print('thank you')"
   ]
  },
  {
   "cell_type": "code",
   "execution_count": null,
   "id": "2bab0501",
   "metadata": {},
   "outputs": [],
   "source": [
    "spam = 0\n",
    "while spam < 5:\n",
    "    spam = spam + 1\n",
    "    #if spam == 3:\n",
    "     #   continue\n",
    "    print('spam is ' + str(spam))\n"
   ]
  },
  {
   "cell_type": "code",
   "execution_count": null,
   "id": "5108a352",
   "metadata": {},
   "outputs": [],
   "source": [
    "total = 0\n",
    "num = 0\n",
    "while num < 100:\n",
    "    num = num + 1\n",
    "    total = total + num\n",
    "print(total)"
   ]
  },
  {
   "cell_type": "code",
   "execution_count": null,
   "id": "6811ca5d",
   "metadata": {},
   "outputs": [],
   "source": [
    "import timeit\n",
    "\n",
    "code_to_test = \"\"\"\n",
    "total = 0\n",
    "\n",
    "for num in range(101):\n",
    "   total = total + num\n",
    "   num = num + num\n",
    "print(num)\n",
    "print(total)\n",
    "\"\"\"\n",
    "\n",
    "execution_time = timeit.timeit(code_to_test, number=1000)\n",
    "print(f\"{execution_time / 1000} seconds\")\n",
    "\n"
   ]
  },
  {
   "cell_type": "code",
   "execution_count": null,
   "id": "8421a862",
   "metadata": {},
   "outputs": [],
   "source": []
  }
 ],
 "metadata": {
  "kernelspec": {
   "display_name": "Python 3 (ipykernel)",
   "language": "python",
   "name": "python3"
  },
  "language_info": {
   "codemirror_mode": {
    "name": "ipython",
    "version": 3
   },
   "file_extension": ".py",
   "mimetype": "text/x-python",
   "name": "python",
   "nbconvert_exporter": "python",
   "pygments_lexer": "ipython3",
   "version": "3.11.5"
  }
 },
 "nbformat": 4,
 "nbformat_minor": 5
}
